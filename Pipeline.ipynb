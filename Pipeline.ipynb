{
 "cells": [
  {
   "cell_type": "markdown",
   "id": "9e3e8024",
   "metadata": {},
   "source": [
    "# Pipeline for preprocessed data"
   ]
  },
  {
   "cell_type": "code",
   "execution_count": 1,
   "id": "f45d4e09",
   "metadata": {},
   "outputs": [
    {
     "name": "stdout",
     "output_type": "stream",
     "text": [
      "(8, 1023780)\n",
      "(1023780,)\n"
     ]
    }
   ],
   "source": [
    "import numpy as np\n",
    "import mne\n",
    "import pyxdf\n",
    "import matplotlib.pyplot as plt\n",
    "from pathlib import Path\n",
    "from scipy import signal\n",
    "import os\n",
    "\n",
    "path_eeg_data = \"C:/Users/Scidex Immanenz/01Programming/motor-imagery/data/Sandra_MI_1h_eeg_data.npy\"\n",
    "path_marker_stream = \"C:/Users/Scidex Immanenz/01Programming/motor-imagery/data/Sandra_MI_1h_marker_stream.npy\"\n",
    "\n",
    "\n",
    "# Does not work after trying 100 times\n",
    "base_dir =  os.path.abspath(os.getcwd())\n",
    "DATA_DIR = Path('./data')\n",
    "\n",
    "data = np.load(path_eeg_data, allow_pickle=True) #DATA_DIR / 'Sandra_MI_1h_eeg_data.npy'\n",
    "print(data.shape)\n",
    "labels = np.load(path_marker_stream, allow_pickle=True)\n",
    "print(labels.shape)"
   ]
  },
  {
   "cell_type": "code",
   "execution_count": 2,
   "id": "65cd4bb2",
   "metadata": {},
   "outputs": [],
   "source": [
    "# create additional information for unicorn\n",
    "sample_rate = 250\n",
    "nchannels, nsamples = data.shape\n",
    "channel_names = ['Fz', 'C3', 'Cz', 'C4', 'Pz', 'PO7', 'Oz', 'PO8']\n",
    "\n",
    "#  classes we want to separate and their respective codings from above\n",
    "cl1 = 'left'\n",
    "cl2 = 'right'\n",
    "coding1 = 7 # make sure you get the right indices here\n",
    "coding2 = 5"
   ]
  },
  {
   "cell_type": "markdown",
   "id": "8d266a35",
   "metadata": {},
   "source": [
    "\n",
    "## Plotting the data\n",
    "\n",
    "The code below cuts trials for the two classes and should look familiar if you've completed the previous tutorials. Trials are cut in the interval [0.5–2.5 s] after the onset of the cue.\n"
   ]
  },
  {
   "cell_type": "code",
   "execution_count": 3,
   "id": "c50c6c72",
   "metadata": {},
   "outputs": [
    {
     "name": "stdout",
     "output_type": "stream",
     "text": [
      "Shape of trials[left]: (8, 500, 200)\n",
      "Shape of trials[right]: (8, 500, 200)\n"
     ]
    }
   ],
   "source": [
    "\n",
    "def get_onsets(labels):\n",
    "    onsets = []\n",
    "    event_codes = []\n",
    "    for i in range(len(labels)-1):\n",
    "        if labels[i]-labels[i+1] != 0:\n",
    "            onsets.append(i+1)\n",
    "            event_codes.append(labels[i+1])\n",
    "    return np.asarray(onsets), np.asarray(event_codes)  \n",
    "\n",
    "# Dictionary to store the trials\n",
    "trials = {}\n",
    "win = np.arange(int(0.5*sample_rate), int(2.5*sample_rate))\n",
    "nsamples_per_trial = len(win)\n",
    "onsets, event_codes = get_onsets(labels)\n",
    "\n",
    "for cl, event in zip([cl1, cl2], [coding1,coding2]): #handl and handR\n",
    "    class_onsets = onsets[event_codes == event]       \n",
    "            \n",
    "    # Allocate memory for trials of class\n",
    "    trials[cl] = np.zeros((nchannels, nsamples_per_trial, len(class_onsets)))\n",
    "    \n",
    "    for i, onset in enumerate(class_onsets):\n",
    "        trials[cl][:,:,i] = data[:, win+onset]\n",
    "        \n",
    "# Some information about the dimensionality of the data (channels x time x trials)\n",
    "print('Shape of trials[left]:', trials[cl1].shape)\n",
    "print('Shape of trials[right]:', trials[cl2].shape)\n"
   ]
  },
  {
   "cell_type": "markdown",
   "id": "da7b5bb6",
   "metadata": {},
   "source": [
    "\n",
    "\n",
    "\n",
    "Since the feature we're looking for (a decrease in $\\mu$-activity) is a frequency feature, lets plot the PSD of the trials in a similar manner as with the SSVEP data. The code below defines a function that computes the PSD for each trial (we're going to need it again later on):\n"
   ]
  },
  {
   "cell_type": "code",
   "execution_count": 4,
   "id": "fe3aa979",
   "metadata": {},
   "outputs": [],
   "source": [
    "\n",
    "from matplotlib import mlab\n",
    "\n",
    "def psd(trials):\n",
    "    '''\n",
    "    Calculates for each trial the Power Spectral Density (PSD).\n",
    "    \n",
    "    Parameters\n",
    "    ----------\n",
    "    trials : 3d-array (channels x samples x trials)\n",
    "        The EEG signal\n",
    "    \n",
    "    Returns\n",
    "    -------\n",
    "    trial_PSD : 3d-array (channels x PSD x trials)\n",
    "        the PSD for each trial.  \n",
    "    freqs : list of floats\n",
    "        Yhe frequencies for which the PSD was computed (useful for plotting later)\n",
    "    '''\n",
    "    \n",
    "    ntrials = trials.shape[2]\n",
    "    trials_PSD = np.zeros((nchannels, sample_rate+1, ntrials))\n",
    "\n",
    "    # Iterate over trials and channels\n",
    "    for trial in range(ntrials):\n",
    "        for ch in range(nchannels):\n",
    "            # Calculate the PSD\n",
    "            (PSD, freqs) = mlab.psd(trials[ch,:,trial], NFFT=int(nsamples_per_trial), Fs=sample_rate)\n",
    "            trials_PSD[ch, :, trial] = PSD.ravel()\n",
    "                \n",
    "    return trials_PSD, freqs\n"
   ]
  },
  {
   "cell_type": "code",
   "execution_count": 5,
   "id": "91b0d34f",
   "metadata": {},
   "outputs": [],
   "source": [
    "\n",
    "# Apply the function\n",
    "psd_r, freqs = psd(trials[cl1])\n",
    "psd_f, freqs = psd(trials[cl2])\n",
    "trials_PSD = {cl1: psd_r, cl2: psd_f}\n"
   ]
  },
  {
   "cell_type": "markdown",
   "id": "8bb28df5",
   "metadata": {},
   "source": [
    "\n",
    "The function below plots the PSDs that are calculated with the above function. Since plotting it for 118 channels will clutter the display, it takes the indices of the desired channels as input, as well as some metadata to decorate the plot.\n"
   ]
  },
  {
   "cell_type": "code",
   "execution_count": 6,
   "id": "344865f6",
   "metadata": {},
   "outputs": [],
   "source": [
    "\n",
    "import matplotlib.pyplot as plt\n",
    "\n",
    "def plot_psd(trials_PSD, freqs, chan_ind, chan_lab=None, maxy=None):\n",
    "    '''\n",
    "    Plots PSD data calculated with psd().\n",
    "    \n",
    "    Parameters\n",
    "    ----------\n",
    "    trials : 3d-array\n",
    "        The PSD data, as returned by psd()\n",
    "    freqs : list of floats\n",
    "        The frequencies for which the PSD is defined, as returned by psd() \n",
    "    chan_ind : list of integers\n",
    "        The indices of the channels to plot\n",
    "    chan_lab : list of strings\n",
    "        (optional) List of names for each channel\n",
    "    maxy : float\n",
    "        (optional) Limit the y-axis to this value\n",
    "    '''\n",
    "    plt.figure(figsize=(12,5))\n",
    "    \n",
    "    nchans = len(chan_ind)\n",
    "    \n",
    "    # Maximum of 3 plots per row\n",
    "    nrows = np.ceil(nchans / 3)\n",
    "    ncols = min(3, nchans)\n",
    "    \n",
    "    # Enumerate over the channels\n",
    "    for i,ch in enumerate(chan_ind):\n",
    "        # Figure out which subplot to draw to\n",
    "        plt.subplot(nrows,ncols,i+1)\n",
    "    \n",
    "        # Plot the PSD for each class\n",
    "        for cl in trials.keys():\n",
    "            plt.plot(freqs, np.mean(trials_PSD[cl][ch,:,:], axis=1), label=cl)\n",
    "    \n",
    "        # All plot decoration below...\n",
    "        \n",
    "        plt.xlim(1,30)\n",
    "        \n",
    "        if maxy != None:\n",
    "            plt.ylim(0,maxy)\n",
    "    \n",
    "        plt.grid()\n",
    "    \n",
    "        plt.xlabel('Frequency (Hz)')\n",
    "        \n",
    "        if chan_lab == None:\n",
    "            plt.title('Channel %d' % (ch+1))\n",
    "        else:\n",
    "            plt.title(chan_lab[i])\n",
    "\n",
    "        plt.legend()\n",
    "        \n",
    "    plt.tight_layout()\n"
   ]
  },
  {
   "cell_type": "markdown",
   "id": "01fc57fb",
   "metadata": {},
   "source": [
    "\n",
    "Lets put the `plot_psd()` function to use and plot three channels:\n",
    "\n",
    " 1. C3: Central, left\n",
    " 2. Cz: Central, central\n",
    " 3. C4: Central, right\n"
   ]
  },
  {
   "cell_type": "code",
   "execution_count": 7,
   "id": "46ca6417",
   "metadata": {},
   "outputs": [
    {
     "name": "stderr",
     "output_type": "stream",
     "text": [
      "<ipython-input-6-2de2ecf68ee9>:31: MatplotlibDeprecationWarning: Passing non-integers as three-element position specification is deprecated since 3.3 and will be removed two minor releases later.\n",
      "  plt.subplot(nrows,ncols,i+1)\n",
      "<ipython-input-6-2de2ecf68ee9>:31: MatplotlibDeprecationWarning: Passing non-integers as three-element position specification is deprecated since 3.3 and will be removed two minor releases later.\n",
      "  plt.subplot(nrows,ncols,i+1)\n",
      "<ipython-input-6-2de2ecf68ee9>:31: MatplotlibDeprecationWarning: Passing non-integers as three-element position specification is deprecated since 3.3 and will be removed two minor releases later.\n",
      "  plt.subplot(nrows,ncols,i+1)\n"
     ]
    },
    {
     "data": {
      "image/png": "[encoded data removed]",
      "text/plain": [
       "<Figure size 864x360 with 3 Axes>"
      ]
     },
     "metadata": {
      "needs_background": "light"
     },
     "output_type": "display_data"
    }
   ],
   "source": [
    "\n",
    "plot_psd(\n",
    "    trials_PSD,\n",
    "    freqs,\n",
    "    [channel_names.index(ch) for ch in ['C3', 'Cz', 'C4']],\n",
    "    chan_lab=['left', 'center', 'right'],\n",
    "    maxy=200  # problem: orders of magnitude\n",
    ")\n"
   ]
  },
  {
   "cell_type": "markdown",
   "id": "6ad03d59",
   "metadata": {},
   "source": [
    "\n",
    "A spike of mu activity can be seen on each channel for both classes. At the right hemisphere, the mu for the left hand movement is lower than for the right hand movement due to the ERD. At the left electrode, the mu for the right hand movement is reduced and at the central electrode the mu activity is about equal for both classes. This is in line with the theory that the left hand is controlled by the left hemiphere and the feet are controlled centrally.\n"
   ]
  },
  {
   "cell_type": "markdown",
   "id": "b7bc0097",
   "metadata": {},
   "source": [
    "\n",
    "## Classifying the data\n",
    "\n",
    "We will use a machine learning algorithm to construct a model that can distinguish between the right hand and foot movement of this subject. In order to do this we need to:\n",
    "\n",
    " 1. find a way to quantify the amount of mu activity present in a trial\n",
    " 2. make a model that describes expected values of mu activity for each class\n",
    " 3. finally test this model on some unseen data to see if it can predict the correct class label\n",
    "\n",
    "We will follow a classic BCI design by Blankertz et al. [1] where they use the logarithm of the variance of the signal in a certain frequency band as a feature for the classifier.\n",
    "\n",
    "[1] Blankertz, B., Dornhege, G., Krauledat, M., Müller, K.-R., & Curio, G. (2007). The non-invasive Berlin Brain-Computer Interface: fast acquisition of effective performance in untrained subjects. *NeuroImage*, 37(2), 539–550. doi:10.1016/j.neuroimage.2007.01.051\n",
    "\n",
    "The script below designs a band pass filter using [`scipy.signal.irrfilter`](http://docs.scipy.org/doc/scipy/reference/generated/scipy.signal.iirfilter.html) that will strip away frequencies outside the 8--15Hz window. The filter is applied to all trials:\n"
   ]
  },
  {
   "cell_type": "code",
   "execution_count": 8,
   "id": "75e51972",
   "metadata": {},
   "outputs": [],
   "source": [
    "\n",
    "import scipy.signal \n",
    "\n",
    "def bandpass(trials, lo, hi, sample_rate):\n",
    "    '''\n",
    "    Designs and applies a bandpass filter to the signal.\n",
    "    \n",
    "    Parameters\n",
    "    ----------\n",
    "    trials : 3d-array (channels x samples x trials)\n",
    "        The EEGsignal\n",
    "    lo : float\n",
    "        Lower frequency bound (in Hz)\n",
    "    hi : float\n",
    "        Upper frequency bound (in Hz)\n",
    "    sample_rate : float\n",
    "        Sample rate of the signal (in Hz)\n",
    "    \n",
    "    Returns\n",
    "    -------\n",
    "    trials_filt : 3d-array (channels x samples x trials)\n",
    "        The bandpassed signal\n",
    "    '''\n",
    "\n",
    "    # The iirfilter() function takes the filter order: higher numbers mean a sharper frequency cutoff,\n",
    "    # but the resulting signal might be shifted in time, lower numbers mean a soft frequency cutoff,\n",
    "    # but the resulting signal less distorted in time. It also takes the lower and upper frequency bounds\n",
    "    # to pass, divided by the niquist frequency, which is the sample rate divided by 2:\n",
    "    a, b = scipy.signal.iirfilter(6, [lo/(sample_rate/2.0), hi/(sample_rate/2.0)])\n",
    "\n",
    "    # Applying the filter to each trial\n",
    "    ntrials = trials.shape[2]\n",
    "    trials_filt = np.zeros((nchannels, nsamples_per_trial, ntrials))\n",
    "    for i in range(ntrials):\n",
    "        trials_filt[:,:,i] = scipy.signal.filtfilt(a, b, trials[:,:,i], axis=1)\n",
    "    \n",
    "    return trials_filt\n"
   ]
  },
  {
   "cell_type": "code",
   "execution_count": 9,
   "id": "e18a7adf",
   "metadata": {},
   "outputs": [],
   "source": [
    "\n",
    "# Apply the function\n",
    "trials_filt = {cl1: bandpass(trials[cl1], 8, 15, sample_rate),\n",
    "               cl2: bandpass(trials[cl2], 8, 15, sample_rate)}\n"
   ]
  },
  {
   "cell_type": "markdown",
   "id": "eca9497f",
   "metadata": {},
   "source": [
    "\n",
    "Plotting the PSD of the resulting `trials_filt` shows the suppression of frequencies outside the passband of the filter:\n"
   ]
  },
  {
   "cell_type": "code",
   "execution_count": 10,
   "id": "e17e2e09",
   "metadata": {},
   "outputs": [
    {
     "name": "stderr",
     "output_type": "stream",
     "text": [
      "<ipython-input-6-2de2ecf68ee9>:31: MatplotlibDeprecationWarning: Passing non-integers as three-element position specification is deprecated since 3.3 and will be removed two minor releases later.\n",
      "  plt.subplot(nrows,ncols,i+1)\n",
      "<ipython-input-6-2de2ecf68ee9>:31: MatplotlibDeprecationWarning: Passing non-integers as three-element position specification is deprecated since 3.3 and will be removed two minor releases later.\n",
      "  plt.subplot(nrows,ncols,i+1)\n",
      "<ipython-input-6-2de2ecf68ee9>:31: MatplotlibDeprecationWarning: Passing non-integers as three-element position specification is deprecated since 3.3 and will be removed two minor releases later.\n",
      "  plt.subplot(nrows,ncols,i+1)\n"
     ]
    },
    {
     "data": {
      "image/png": "[encoded data removed]",
      "text/plain": [
       "<Figure size 864x360 with 3 Axes>"
      ]
     },
     "metadata": {
      "needs_background": "light"
     },
     "output_type": "display_data"
    }
   ],
   "source": [
    "\n",
    "psd_r, freqs = psd(trials_filt[cl1])\n",
    "psd_f, freqs = psd(trials_filt[cl2])\n",
    "trials_PSD2 = {cl1: psd_r, cl2: psd_f}\n",
    "\n",
    "plot_psd(\n",
    "    trials_PSD2,\n",
    "    freqs,\n",
    "    [channel_names.index(ch) for ch in ['C3', 'Cz', 'C4']],\n",
    "    chan_lab=['left', 'center', 'right'],\n",
    "    maxy=200 # problem: orders of magnitude\n",
    ")\n"
   ]
  },
  {
   "cell_type": "markdown",
   "id": "90c2021a",
   "metadata": {},
   "source": [
    "\n",
    "As a feature for the classifier, we will use the logarithm of the variance of each channel. The function below calculates this:\n"
   ]
  },
  {
   "cell_type": "code",
   "execution_count": 11,
   "id": "00f70465",
   "metadata": {},
   "outputs": [],
   "source": [
    "\n",
    "# Calculate the log(var) of the trials\n",
    "def logvar(trials):\n",
    "    '''\n",
    "    Calculate the log-var of each channel.\n",
    "    \n",
    "    Parameters\n",
    "    ----------\n",
    "    trials : 3d-array (channels x samples x trials)\n",
    "        The EEG signal.\n",
    "        \n",
    "    Returns\n",
    "    -------\n",
    "    logvar - 2d-array (channels x trials)\n",
    "        For each channel the logvar of the signal\n",
    "    '''\n",
    "    return np.log(np.var(trials, axis=1))\n"
   ]
  },
  {
   "cell_type": "code",
   "execution_count": 12,
   "id": "5440ffa0",
   "metadata": {},
   "outputs": [],
   "source": [
    "\n",
    "# Apply the function\n",
    "trials_logvar = {cl1: logvar(trials_filt[cl1]),\n",
    "                 cl2: logvar(trials_filt[cl2])}\n"
   ]
  },
  {
   "cell_type": "markdown",
   "id": "84c423f8",
   "metadata": {},
   "source": [
    "\n",
    "Below is a function to visualize the logvar of each channel as a bar chart:\n"
   ]
  },
  {
   "cell_type": "code",
   "execution_count": 13,
   "id": "e541badd",
   "metadata": {},
   "outputs": [],
   "source": [
    "\n",
    "def plot_logvar(trials):\n",
    "    '''\n",
    "    Plots the log-var of each channel/component.\n",
    "    arguments:\n",
    "        trials - Dictionary containing the trials (log-vars x trials) for 2 classes.\n",
    "    '''\n",
    "    plt.figure(figsize=(12,5))\n",
    "    \n",
    "    x0 = np.arange(nchannels)\n",
    "    x1 = np.arange(nchannels) + 0.4\n",
    "\n",
    "    y0 = np.mean(trials[cl1], axis=1)\n",
    "    y1 = np.mean(trials[cl2], axis=1)\n",
    "\n",
    "    plt.bar(x0, y0, width=0.5, color='b', label = cl1)\n",
    "    plt.bar(x1, y1, width=0.4, color='r', label = cl2)\n",
    "\n",
    "    plt.xlim(-0.5, nchannels+0.5)\n",
    "\n",
    "    plt.gca().yaxis.grid(True)\n",
    "    plt.title('log-var of each channel/component')\n",
    "    plt.xlabel('channels/components')\n",
    "    plt.ylabel('log-var')\n",
    "    plt.legend()\n"
   ]
  },
  {
   "cell_type": "code",
   "execution_count": 14,
   "id": "73e26f61",
   "metadata": {},
   "outputs": [
    {
     "data": {
      "image/png": "[encoded data removed]",
      "text/plain": [
       "<Figure size 864x360 with 1 Axes>"
      ]
     },
     "metadata": {
      "needs_background": "light"
     },
     "output_type": "display_data"
    }
   ],
   "source": [
    "\n",
    "# Plot the log-vars\n",
    "plot_logvar(trials_logvar)  ## but why is it negative? Order of magnitude problem again?\n"
   ]
  },
  {
   "cell_type": "markdown",
   "id": "d0bb0335",
   "metadata": {},
   "source": [
    "\n",
    "We see that most channels show a small difference in the log-var of the signal between the two classes. The next step is to go from 118 channels to only a few channel mixtures. The CSP algorithm calculates mixtures of channels that are designed to maximize the difference in variation between two classes. These mixures are called spatial filters.\n"
   ]
  },
  {
   "cell_type": "code",
   "execution_count": 15,
   "id": "b1ff7321",
   "metadata": {},
   "outputs": [],
   "source": [
    "\n",
    "from numpy import linalg\n",
    "\n",
    "def cov(trials):\n",
    "    ''' Calculate the covariance for each trial and return their average '''\n",
    "    ntrials = trials.shape[2]\n",
    "    covs = [ trials[:,:,i].dot(trials[:,:,i].T) / nsamples for i in range(ntrials) ]\n",
    "    return np.mean(covs, axis=0)\n",
    "\n",
    "def whitening(sigma):\n",
    "    ''' Calculate a whitening matrix for covariance matrix sigma. '''\n",
    "    U, l, _ = linalg.svd(sigma)\n",
    "    return U.dot( np.diag(l ** -0.5) )\n",
    "\n",
    "def csp(trials_r, trials_f):\n",
    "    '''\n",
    "    Calculate the CSP transformation matrix W.\n",
    "    arguments:\n",
    "        trials_r - Array (channels x samples x trials) containing right hand movement trials\n",
    "        trials_f - Array (channels x samples x trials) containing foot movement trials\n",
    "    returns:\n",
    "        Mixing matrix W\n",
    "    '''\n",
    "    cov_r = cov(trials_r)\n",
    "    cov_f = cov(trials_f)\n",
    "    P = whitening(cov_r + cov_f)\n",
    "    B, _, _ = linalg.svd( P.T.dot(cov_f).dot(P) )\n",
    "    W = P.dot(B)\n",
    "    return W\n",
    "\n",
    "def apply_mix(W, trials):\n",
    "    ''' Apply a mixing matrix to each trial (basically multiply W with the EEG signal matrix)'''\n",
    "    ntrials = trials.shape[2]\n",
    "    trials_csp = np.zeros((nchannels, nsamples_per_trial, ntrials))\n",
    "    for i in range(ntrials):\n",
    "        trials_csp[:,:,i] = W.T.dot(trials[:,:,i])\n",
    "    return trials_csp\n"
   ]
  },
  {
   "cell_type": "code",
   "execution_count": 16,
   "id": "3fbb86da",
   "metadata": {},
   "outputs": [],
   "source": [
    "\n",
    "# Apply the functions\n",
    "W = csp(trials_filt[cl1], trials_filt[cl2])\n",
    "trials_csp = {cl1: apply_mix(W, trials_filt[cl1]),\n",
    "              cl2: apply_mix(W, trials_filt[cl2])}\n"
   ]
  },
  {
   "cell_type": "markdown",
   "id": "18cb4cd8",
   "metadata": {},
   "source": [
    "\n",
    "To see the result of the CSP algorithm, we plot the log-var like we did before:\n"
   ]
  },
  {
   "cell_type": "code",
   "execution_count": 17,
   "id": "79e33a02",
   "metadata": {},
   "outputs": [
    {
     "data": {
      "image/png": "[encoded data removed]",
      "text/plain": [
       "<Figure size 864x360 with 1 Axes>"
      ]
     },
     "metadata": {
      "needs_background": "light"
     },
     "output_type": "display_data"
    }
   ],
   "source": [
    "\n",
    "trials_logvar = {cl1: logvar(trials_csp[cl1]),\n",
    "                 cl2: logvar(trials_csp[cl2])}\n",
    "plot_logvar(trials_logvar)\n"
   ]
  },
  {
   "cell_type": "markdown",
   "id": "5f1482e6",
   "metadata": {},
   "source": [
    "\n",
    "Instead of 118 channels, we now have 118 mixtures of channels, called components. They are the result of 118 spatial filters applied to the data.\n",
    "\n",
    "The first filters maximize the variation of the first class, while minimizing the variation of the second. The last filters maximize the variation of the second class, while minimizing the variation of the first.\n",
    "\n",
    "This is also visible in a PSD plot. The code below plots the PSD for the first and last components as well as one in the middle:\n"
   ]
  },
  {
   "cell_type": "code",
   "execution_count": 18,
   "id": "67765240",
   "metadata": {},
   "outputs": [
    {
     "name": "stderr",
     "output_type": "stream",
     "text": [
      "<ipython-input-6-2de2ecf68ee9>:31: MatplotlibDeprecationWarning: Passing non-integers as three-element position specification is deprecated since 3.3 and will be removed two minor releases later.\n",
      "  plt.subplot(nrows,ncols,i+1)\n",
      "<ipython-input-6-2de2ecf68ee9>:31: MatplotlibDeprecationWarning: Passing non-integers as three-element position specification is deprecated since 3.3 and will be removed two minor releases later.\n",
      "  plt.subplot(nrows,ncols,i+1)\n",
      "<ipython-input-6-2de2ecf68ee9>:31: MatplotlibDeprecationWarning: Passing non-integers as three-element position specification is deprecated since 3.3 and will be removed two minor releases later.\n",
      "  plt.subplot(nrows,ncols,i+1)\n"
     ]
    },
    {
     "data": {
      "image/png": "[encoded data removed]",
      "text/plain": [
       "<Figure size 864x360 with 3 Axes>"
      ]
     },
     "metadata": {
      "needs_background": "light"
     },
     "output_type": "display_data"
    }
   ],
   "source": [
    "\n",
    "psd_r, freqs = psd(trials_csp[cl1])\n",
    "psd_f, freqs = psd(trials_csp[cl2])\n",
    "trials_PSD2 = {cl1: psd_r, cl2: psd_f}\n",
    "\n",
    "plot_psd(trials_PSD2, freqs, [0,7,-1], chan_lab=['first component', 'middle component', 'last component'], maxy=10 )\n"
   ]
  },
  {
   "cell_type": "markdown",
   "id": "f18ab0ca",
   "metadata": {},
   "source": [
    "\n",
    "In order to see how well we can differentiate between the two classes, a scatter plot is a useful tool. Here both classes are plotted on a 2-dimensional plane: the x-axis is the first CSP component, the y-axis is the last.\n"
   ]
  },
  {
   "cell_type": "code",
   "execution_count": 19,
   "id": "9b59551b",
   "metadata": {},
   "outputs": [],
   "source": [
    "\n",
    "def plot_scatter(left, right):\n",
    "    plt.figure()\n",
    "    plt.scatter(left[0,:], left[-1,:], color='b', label = cl1)\n",
    "    plt.scatter(right[0,:], right[-1,:], color='r', label = cl2)\n",
    "    plt.xlabel('Last component')\n",
    "    plt.ylabel('First component')\n",
    "    plt.legend()\n"
   ]
  },
  {
   "cell_type": "code",
   "execution_count": 20,
   "id": "98cc24e7",
   "metadata": {},
   "outputs": [
    {
     "data": {
      "image/png": "[encoded data removed]",
      "text/plain": [
       "<Figure size 432x288 with 1 Axes>"
      ]
     },
     "metadata": {
      "needs_background": "light"
     },
     "output_type": "display_data"
    }
   ],
   "source": [
    "\n",
    "plot_scatter(trials_logvar[cl1], trials_logvar[cl2])\n"
   ]
  },
  {
   "cell_type": "markdown",
   "id": "98abd8ac",
   "metadata": {},
   "source": [
    "\n",
    "We will apply a linear classifier to this data. A linear classifier can be thought of as drawing a line in the above plot to separate the two classes. To determine the class for a new trial, we just check on which side of the line the trial would be if plotted as above.\n",
    "\n",
    "The data is split into a train and a test set. The classifier will fit a model (in this case, a straight line) on the training set and use this model to make predictions about the test set (see on which side of the line each trial in the test set falls). Note that the CSP algorithm is part of the model, so for fairness sake it should be calculated using only the training data.\n"
   ]
  },
  {
   "cell_type": "code",
   "execution_count": 21,
   "id": "c5a35183",
   "metadata": {},
   "outputs": [],
   "source": [
    "\n",
    "# Percentage of trials to use for training (50-50 split here)\n",
    "train_percentage = 0.75\n",
    "\n",
    "# Calculate the number of trials for each class the above percentage boils down to\n",
    "ntrain_r = int(trials_filt[cl1].shape[2] * train_percentage)\n",
    "ntrain_f = int(trials_filt[cl2].shape[2] * train_percentage)\n",
    "ntest_r = trials_filt[cl1].shape[2] - ntrain_r\n",
    "ntest_f = trials_filt[cl2].shape[2] - ntrain_f\n",
    "\n",
    "# Splitting the frequency filtered signal into a train and test set\n",
    "train = {cl1: trials_filt[cl1][:,:,:ntrain_r],\n",
    "         cl2: trials_filt[cl2][:,:,:ntrain_f]}\n",
    "\n",
    "test = {cl1: trials_filt[cl1][:,:,ntrain_r:],\n",
    "        cl2: trials_filt[cl2][:,:,ntrain_f:]}\n",
    "\n",
    "# Train the CSP on the training set only\n",
    "W = csp(train[cl1], train[cl2])\n",
    "\n",
    "# Apply the CSP on both the training and test set\n",
    "train[cl1] = apply_mix(W, train[cl1])\n",
    "train[cl2] = apply_mix(W, train[cl2])\n",
    "test[cl1] = apply_mix(W, test[cl1])\n",
    "test[cl2] = apply_mix(W, test[cl2])\n",
    "\n",
    "# Select only the first and last components for classification\n",
    "comp = np.array([0,-1])\n",
    "train[cl1] = train[cl1][comp,:,:]\n",
    "train[cl2] = train[cl2][comp,:,:]\n",
    "test[cl1] = test[cl1][comp,:,:]\n",
    "test[cl2] = test[cl2][comp,:,:]\n",
    "\n",
    "# Calculate the log-var\n",
    "train[cl1] = logvar(train[cl1])\n",
    "train[cl2] = logvar(train[cl2])\n",
    "test[cl1] = logvar(test[cl1])\n",
    "test[cl2] = logvar(test[cl2])\n"
   ]
  },
  {
   "cell_type": "markdown",
   "id": "84e799c0",
   "metadata": {},
   "source": [
    "\n",
    "For a classifier the Linear Discriminant Analysis (LDA) algorithm will be used. It fits a gaussian distribution to each class, characterized by the mean and covariance, and determines an optimal separating plane to divide the two. This plane is defined as $r = W_0 \\cdot X_0 + W_1 \\cdot X_1 + \\ldots + W_n \\cdot X_n - b$, where $r$ is the classifier output, $W$ are called the feature weights, $X$ are the features of the trial, $n$ is the dimensionality of the data and $b$ is called the offset.\n",
    "\n",
    "In our case we have 2 dimensional data, so the separating plane will be a line: $r = W_0 \\cdot X_0 + W_1 \\cdot X_1 - b$. To determine a class label for an unseen trial, we can calculate whether the result is positive or negative.\n"
   ]
  },
  {
   "cell_type": "code",
   "execution_count": 22,
   "id": "9786c2c1",
   "metadata": {},
   "outputs": [],
   "source": [
    "\n",
    "def train_lda(class1, class2):\n",
    "    '''\n",
    "    Trains the LDA algorithm.\n",
    "    arguments:\n",
    "        class1 - An array (observations x features) for class 1\n",
    "        class2 - An array (observations x features) for class 2\n",
    "    returns:\n",
    "        The projection matrix W\n",
    "        The offset b\n",
    "    '''\n",
    "    nclasses = 2\n",
    "    \n",
    "    nclass1 = class1.shape[0]\n",
    "    nclass2 = class2.shape[0]\n",
    "    \n",
    "    # Class priors: in this case, we have an equal number of training\n",
    "    # examples for each class, so both priors are 0.5\n",
    "    prior1 = nclass1 / float(nclass1 + nclass2)\n",
    "    prior2 = nclass2 / float(nclass1 + nclass1)\n",
    "   \n",
    "    mean1 = np.mean(class1, axis=0)\n",
    "    mean2 = np.mean(class2, axis=0)\n",
    "    \n",
    "    class1_centered = class1 - mean1\n",
    "    class2_centered = class2 - mean2\n",
    "    \n",
    "    # Calculate the covariance between the features\n",
    "    cov1 = class1_centered.T.dot(class1_centered) / (nclass1 - nclasses)\n",
    "    cov2 = class2_centered.T.dot(class2_centered) / (nclass2 - nclasses)\n",
    "   \n",
    "    W = (mean2 - mean1).dot(np.linalg.pinv(prior1*cov1 + prior2*cov2))\n",
    "    b = (prior1*mean1 + prior2*mean2).dot(W)\n",
    "    \n",
    "    return (W,b)\n",
    "\n",
    "def apply_lda(test, W, b):\n",
    "    '''\n",
    "    Applies a previously trained LDA to new data.\n",
    "    arguments:\n",
    "        test - An array (features x trials) containing the data\n",
    "        W    - The project matrix W as calculated by train_lda()\n",
    "        b    - The offsets b as calculated by train_lda()\n",
    "    returns:\n",
    "        A list containing a classlabel for each trial\n",
    "    '''\n",
    "    ntrials = test.shape[1]\n",
    "    \n",
    "    prediction = []\n",
    "    for i in range(ntrials):\n",
    "        # The line below is a generalization for:\n",
    "        # result = W[0] * test[0,i] + W[1] * test[1,i] - b\n",
    "        result = W.dot(test[:,i]) - b\n",
    "        if result <= 0:\n",
    "            prediction.append(1)\n",
    "        else:\n",
    "            prediction.append(2)\n",
    "    \n",
    "    return np.array(prediction)\n"
   ]
  },
  {
   "cell_type": "markdown",
   "id": "4ccc8365",
   "metadata": {},
   "source": [
    "\n",
    "Training the LDA using the training data gives us $W$ and $b$:\n"
   ]
  },
  {
   "cell_type": "code",
   "execution_count": 23,
   "id": "81126ba4",
   "metadata": {},
   "outputs": [
    {
     "name": "stdout",
     "output_type": "stream",
     "text": [
      "W: [ 0.23685553 -0.95547102]\n",
      "b: -5.643856932476872\n"
     ]
    }
   ],
   "source": [
    "\n",
    "W,b = train_lda(train[cl1].T, train[cl2].T)\n",
    "\n",
    "print('W:', W)\n",
    "print('b:', b)\n"
   ]
  },
  {
   "cell_type": "markdown",
   "id": "3a6706f3",
   "metadata": {},
   "source": [
    "\n",
    "It can be informative to recreate the scatter plot and overlay the decision boundary as determined by the LDA classifier. The decision boundary is the line for which the classifier output is exactly 0. The scatterplot used $X_0$ as $x$-axis and $X_1$ as $y$-axis. To find the function $y = f(x)$ describing the decision boundary, we set $r$ to 0 and solve for $y$ in the equation of the separating plane:\n"
   ]
  },
  {
   "cell_type": "markdown",
   "id": "73b537ba",
   "metadata": {},
   "source": [
    "\n",
    "<div style=\"width:600px\">\n",
    "$$\\begin{align}\n",
    "W_0 \\cdot X_0 + W_1 \\cdot X_1 - b &= r &&\\text{the original equation} \\\\\\\n",
    "W_0 \\cdot x + W_1 \\cdot y - b &= 0     &&\\text{filling in $X_0=x$, $X_1=y$ and $r=0$} \\\\\\\n",
    "W_0 \\cdot x + W_1 \\cdot y &= b         &&\\text{solving for $y$}\\\\\\\n",
    "W_1 \\cdot y &= b - W_0 \\cdot x \\\\\\\n",
    "\\\\\\\n",
    "y &= \\frac{b - W_0 \\cdot x}{W_1}\n",
    "\\end{align}$$\n",
    "</div>\n"
   ]
  },
  {
   "cell_type": "markdown",
   "id": "8006989d",
   "metadata": {},
   "source": [
    "\n",
    "We first plot the decision boundary with the training data used to calculate it:\n"
   ]
  },
  {
   "cell_type": "code",
   "execution_count": 24,
   "id": "fcb38a99",
   "metadata": {},
   "outputs": [
    {
     "data": {
      "text/plain": [
       "[<matplotlib.lines.Line2D at 0x26f64eb4df0>]"
      ]
     },
     "execution_count": 24,
     "metadata": {},
     "output_type": "execute_result"
    },
    {
     "data": {
      "image/png": "[encoded data removed]",
      "text/plain": [
       "<Figure size 432x288 with 1 Axes>"
      ]
     },
     "metadata": {
      "needs_background": "light"
     },
     "output_type": "display_data"
    }
   ],
   "source": [
    "\n",
    "# Scatterplot like before\n",
    "plot_scatter(train[cl1], train[cl2])\n",
    "plt.title('Training data')\n",
    "\n",
    "# Calculate decision boundary (x,y)\n",
    "x = np.arange(0, 6, 0.1)\n",
    "y = (b - W[0]*x) / W[1]\n",
    "\n",
    "# Plot the decision boundary\n",
    "plt.plot(x,y, linestyle='--', linewidth=2, color='k')\n",
    "#plt.xlim(-5, 1)\n",
    "#plt.ylim(-2.2, 1)\n"
   ]
  },
  {
   "cell_type": "markdown",
   "id": "a9a911e0",
   "metadata": {},
   "source": [
    "\n",
    "The code below plots the boundary with the test data on which we will apply the classifier. You will see the classifier is going to make some mistakes.\n"
   ]
  },
  {
   "cell_type": "code",
   "execution_count": 27,
   "id": "2fd33bc1",
   "metadata": {},
   "outputs": [
    {
     "name": "stdout",
     "output_type": "stream",
     "text": [
      "(2, 50)\n"
     ]
    },
    {
     "data": {
      "image/png": "[encoded data removed]",
      "text/plain": [
       "<Figure size 432x288 with 1 Axes>"
      ]
     },
     "metadata": {
      "needs_background": "light"
     },
     "output_type": "display_data"
    }
   ],
   "source": [
    "\n",
    "plot_scatter(test[cl1], test[cl2])\n",
    "plt.title('Test data')\n",
    "plt.plot(x,y, linestyle='--', linewidth=2, color='k')\n",
    "\n",
    "print(test[cl1].shape)\n",
    "#plt.xlim(-5, 1)\n",
    "#plt.ylim(-2.2, 1)\n"
   ]
  },
  {
   "cell_type": "markdown",
   "id": "1a5f5621",
   "metadata": {},
   "source": [
    "\n",
    "Now the LDA is constructed and fitted to the training data. We can now apply it to the test data. The results are presented as a confusion matrix:\n",
    "    \n",
    "<table>\n",
    "    <tr><td></td><td colspan='2' style=\"font-weight:bold\">True labels →</td></tr>\n",
    "    <tr><td style=\"font-weight:bold\">↓ Predicted labels</td><td>Right</td><td>Left</td></tr>\n",
    "    <tr><td>Right</td><td></td><td></td></tr>\n",
    "    <tr><td>Left</td><td></td><td></td></tr>\n",
    "</table>\n",
    "\n",
    "The number at the diagonal will be trials that were correctly classified, any trials incorrectly classified (either a false positive or false negative) will be in the corners.\n"
   ]
  },
  {
   "cell_type": "code",
   "execution_count": 26,
   "id": "d8a41775",
   "metadata": {},
   "outputs": [
    {
     "name": "stdout",
     "output_type": "stream",
     "text": [
      "Confusion matrix:\n",
      "[[16 22]\n",
      " [34 28]]\n",
      "\n",
      "Accuracy: 0.440\n"
     ]
    }
   ],
   "source": [
    "\n",
    "# Print confusion matrix\n",
    "conf = np.array([\n",
    "    [(apply_lda(test[cl1], W, b) == 1).sum(), (apply_lda(test[cl2], W, b) == 1).sum()],\n",
    "    [(apply_lda(test[cl1], W, b) == 2).sum(), (apply_lda(test[cl2], W, b) == 2).sum()],\n",
    "])\n",
    "\n",
    "print('Confusion matrix:')\n",
    "print(conf)\n",
    "print()\n",
    "print('Accuracy: %.3f' % (np.sum(np.diag(conf)) / float(np.sum(conf))))\n"
   ]
  },
  {
   "cell_type": "code",
   "execution_count": null,
   "id": "2c0712e7",
   "metadata": {},
   "outputs": [],
   "source": []
  }
 ],
 "metadata": {
  "kernelspec": {
   "display_name": "Python 3",
   "language": "python",
   "name": "python3"
  },
  "language_info": {
   "codemirror_mode": {
    "name": "ipython",
    "version": 3
   },
   "file_extension": ".py",
   "mimetype": "text/x-python",
   "name": "python",
   "nbconvert_exporter": "python",
   "pygments_lexer": "ipython3",
   "version": "3.8.8"
  }
 },
 "nbformat": 4,
 "nbformat_minor": 5
}
